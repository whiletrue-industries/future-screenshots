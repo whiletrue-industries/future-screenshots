{
 "cells": [
  {
   "cell_type": "code",
   "execution_count": 49,
   "metadata": {},
   "outputs": [],
   "source": [
    "import json\n",
    "\n",
    "records_with_embeddings = json.load(open('sample/affb/records_with_embeddings.json'))"
   ]
  },
  {
   "cell_type": "code",
   "execution_count": 50,
   "metadata": {},
   "outputs": [],
   "source": [
    "from openai import OpenAI\n",
    "\n",
    "API_KEY = open('OPENAI_KEY').read().strip()\n",
    "INSTRUCTIONS = open('NAME-CLUSTER.md').read().strip()\n",
    "\n",
    "client = OpenAI(api_key=API_KEY)\n",
    "\n",
    "def find_cluster_title(topics, taglines):\n",
    "    prompt = f'''{INSTRUCTIONS}\n",
    "\n",
    "List of submission taglines:\n",
    "- {\"\\n- \".join(taglines)}\n",
    "'''\n",
    "    completion = client.chat.completions.create(\n",
    "        model=\"gpt-4o\",\n",
    "        messages=[\n",
    "            {\n",
    "                \"role\": \"user\",\n",
    "                \"content\": [\n",
    "                    { \"type\": \"text\", \"text\": prompt },\n",
    "                ],\n",
    "            }\n",
    "        ],\n",
    "        temperature=0.0000001\n",
    "    )\n",
    "    return completion.choices[0].message.content    "
   ]
  },
  {
   "cell_type": "code",
   "execution_count": 51,
   "metadata": {},
   "outputs": [
    {
     "name": "stdout",
     "output_type": "stream",
     "text": [
      "(157, 3072)\n"
     ]
    },
    {
     "name": "stderr",
     "output_type": "stream",
     "text": [
      "/Users/adam/Code/art/screenshots/.venv/lib/python3.12/site-packages/sklearn/manifold/_t_sne.py:1164: FutureWarning: 'n_iter' was renamed to 'max_iter' in version 1.5 and will be removed in 1.7.\n",
      "  warnings.warn(\n"
     ]
    },
    {
     "name": "stdout",
     "output_type": "stream",
     "text": [
      "num_clusters: 10\n"
     ]
    }
   ],
   "source": [
    "from sklearn.cluster import AgglomerativeClustering\n",
    "import numpy as np\n",
    "from sklearn.manifold import TSNE\n",
    "\n",
    "X = np.array([record['embedding'] for record in records_with_embeddings])\n",
    "print(X.shape)\n",
    "\n",
    "tsne = TSNE(perplexity=50, n_components=2, init='random', n_iter=5000)\n",
    "X = tsne.fit_transform(X)\n",
    "\n",
    "clustering = AgglomerativeClustering(n_clusters=10, metric='cosine', distance_threshold=None, linkage='complete')\n",
    "clustering.fit(X)\n",
    "labels = clustering.labels_\n",
    "num_clusters = len(set(labels))\n",
    "print(f'num_clusters: {num_clusters}')"
   ]
  },
  {
   "cell_type": "code",
   "execution_count": null,
   "metadata": {},
   "outputs": [
    {
     "name": "stdout",
     "output_type": "stream",
     "text": [
      "Cluster 22 size: 22, 14.01% of total\n",
      "Cluster 9 [('politics', 12), ('geopolitics', 8), ('globalization', 4), ('technology', 3), ('environment', 3), ('migration', 3), ('social change', 2)]\n",
      "Title: גבולות גיאופוליטיים חדשים\n",
      "Cluster 22 size: 22, 14.01% of total\n",
      "Cluster 9 [('technology', 9), ('AI', 7), ('education', 3), ('communication', 3), ('news', 2), ('society', 2), ('healthcare', 2)]\n",
      "Title: בינה מלאכותית\n",
      "Cluster 20 size: 20, 12.74% of total\n",
      "Cluster 9 [('technology', 12), ('social media', 7), ('politics', 4), ('society', 3), ('activism', 3), ('privacy', 2), ('digital communication', 2)]\n",
      "Title: כוח טכנולוגי מוגבר\n",
      "Cluster 17 size: 17, 10.83% of total\n",
      "Cluster 9 [('politics', 14), ('technology', 5), ('elections', 3), ('social movements', 3), ('human rights', 2), ('social unrest', 2), ('privacy', 2)]\n",
      "Title: משטרים סמכותניים\n",
      "Cluster 16 size: 16, 10.19% of total\n",
      "Cluster 9 [('environment', 9), ('climate change', 7), ('politics', 7), ('sustainability', 3), ('social media', 3), ('AI', 2), ('community', 2)]\n",
      "Title: משבר אקלים\n",
      "Cluster 13 size: 13, 8.28% of total\n",
      "Cluster 9 [('politics', 7), ('peace', 5), ('travel', 3), ('globalization', 3), ('infrastructure', 2), ('technology', 2), ('transportation', 2)]\n",
      "Title: גבולות פתוחים\n",
      "Cluster 13 size: 13, 8.28% of total\n",
      "Cluster 9 [('AI', 8), ('politics', 4), ('economics', 3), ('history', 3), ('environment', 2), ('society', 2), ('social change', 2)]\n",
      "Title: כלכלה פוסט-עבודה\n",
      "Cluster 12 size: 12, 7.64% of total\n",
      "Cluster 9 [('social change', 4), ('culture', 3), ('politics', 3), ('reconciliation', 2), ('community', 2), ('diversity', 2), ('social interactions', 2)]\n",
      "Title: פיוס חברתי\n"
     ]
    }
   ],
   "source": [
    "from collections import Counter\n",
    "\n",
    "label_counts = []\n",
    "for i in range(num_clusters):\n",
    "    cluster_members = [x for x, label in zip(records_with_embeddings, labels) if label == i]\n",
    "    label_counts.append((i, len(cluster_members), cluster_members))\n",
    "\n",
    "label_counts.sort(key=lambda x: x[1], reverse=True)\n",
    "total = 0\n",
    "\n",
    "for _, label, cluster_members in label_counts:\n",
    "    print(f'Cluster {label} size: {len(cluster_members)}, {len(cluster_members) / len(records_with_embeddings) * 100:.2f}% of total')\n",
    "    topics = Counter()\n",
    "    for member in cluster_members:\n",
    "        topics.update(member['future_scenario_topics'])\n",
    "    most_common_topics = [x[0] for x in topics.most_common(7)]\n",
    "    taglines = [member['future_scenario_description'] for member in cluster_members]\n",
    "\n",
    "    title = find_cluster_title(most_common_topics, taglines)\n",
    "\n",
    "    print(f'Cluster {i}', topics.most_common(7))\n",
    "    print(f'Title: {title}')\n",
    "\n",
    "    total += len(cluster_members)\n",
    "    if total > 0.85 * len(records_with_embeddings):\n",
    "        break\n"
   ]
  },
  {
   "cell_type": "code",
   "execution_count": null,
   "metadata": {},
   "outputs": [],
   "source": []
  }
 ],
 "metadata": {
  "kernelspec": {
   "display_name": ".venv",
   "language": "python",
   "name": "python3"
  },
  "language_info": {
   "codemirror_mode": {
    "name": "ipython",
    "version": 3
   },
   "file_extension": ".py",
   "mimetype": "text/x-python",
   "name": "python",
   "nbconvert_exporter": "python",
   "pygments_lexer": "ipython3",
   "version": "3.12.1"
  }
 },
 "nbformat": 4,
 "nbformat_minor": 2
}
